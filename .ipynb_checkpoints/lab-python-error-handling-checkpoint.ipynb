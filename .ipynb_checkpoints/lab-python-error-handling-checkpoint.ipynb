{
 "cells": [
  {
   "cell_type": "markdown",
   "id": "25d7736c-ba17-4aff-b6bb-66eba20fbf4e",
   "metadata": {},
   "source": [
    "# Lab | Error Handling"
   ]
  },
  {
   "cell_type": "markdown",
   "id": "bc99b386-7508-47a0-bcdb-d969deaf6c8b",
   "metadata": {},
   "source": [
    "## Exercise: Error Handling for Managing Customer Orders\n",
    "\n",
    "The implementation of your code for managing customer orders assumes that the user will always enter a valid input. \n",
    "\n",
    "For example, we could modify the `initialize_inventory` function to include error handling.\n",
    "   - If the user enters an invalid quantity (e.g., a negative value or a non-numeric value), display an error message and ask them to re-enter the quantity for that product.\n",
    "   - Use a try-except block to handle the error and continue prompting the user until a valid quantity is entered.\n",
    "\n",
    "```python\n",
    "# Step 1: Define the function for initializing the inventory with error handling\n",
    "def initialize_inventory(products):\n",
    "    inventory = {}\n",
    "    for product in products:\n",
    "        valid_quantity = False\n",
    "        while not valid_quantity:\n",
    "            try:\n",
    "                quantity = int(input(f\"Enter the quantity of {product}s available: \"))\n",
    "                if quantity < 0:\n",
    "                    raise ValueError(\"Invalid quantity! Please enter a non-negative value.\")\n",
    "                valid_quantity = True\n",
    "            except ValueError as error:\n",
    "                print(f\"Error: {error}\")\n",
    "        inventory[product] = quantity\n",
    "    return inventory\n",
    "\n",
    "# Or, in another way:\n",
    "\n",
    "def initialize_inventory(products):\n",
    "    inventory = {}\n",
    "    for product in products:\n",
    "        valid_input = False\n",
    "        while not valid_input:\n",
    "            try:\n",
    "                quantity = int(input(f\"Enter the quantity of {product}s available: \"))\n",
    "                if quantity >= 0:\n",
    "                    inventory[product] = quantity\n",
    "                    valid_input = True\n",
    "                else:\n",
    "                    print(\"Quantity cannot be negative. Please enter a valid quantity.\")\n",
    "            except ValueError:\n",
    "                print(\"Invalid input. Please enter a valid quantity.\")\n",
    "    return inventory\n",
    "```\n",
    "\n",
    "Let's enhance your code by implementing error handling to handle invalid inputs.\n",
    "\n",
    "Follow the steps below to complete the exercise:\n",
    "\n",
    "2. Modify the `calculate_total_price` function to include error handling.\n",
    "   - If the user enters an invalid price (e.g., a negative value or a non-numeric value), display an error message and ask them to re-enter the price for that product.\n",
    "   - Use a try-except block to handle the error and continue prompting the user until a valid price is entered.\n",
    "\n",
    "3. Modify the `get_customer_orders` function to include error handling.\n",
    "   - If the user enters an invalid number of orders (e.g., a negative value or a non-numeric value), display an error message and ask them to re-enter the number of orders.\n",
    "   - If the user enters an invalid product name (e.g., a product name that is not in the inventory), or that doesn't have stock available, display an error message and ask them to re-enter the product name. *Hint: you will need to pass inventory as a parameter*\n",
    "   - Use a try-except block to handle the error and continue prompting the user until a valid product name is entered.\n",
    "\n",
    "4. Test your code by running the program and deliberately entering invalid quantities and product names. Make sure the error handling mechanism works as expected.\n"
   ]
  },
  {
   "cell_type": "code",
   "execution_count": 12,
   "id": "c16ad592-9aa6-4a42-acdc-8b1c6995aa6b",
   "metadata": {},
   "outputs": [],
   "source": [
    "products = [\"t-shirt\", \"mug\", \"hat\", \"book\", \"keychain\"]"
   ]
  },
  {
   "cell_type": "code",
   "execution_count": 16,
   "id": "cab94b9d-9786-43f1-a6e7-a1a6282436db",
   "metadata": {},
   "outputs": [
    {
     "name": "stdin",
     "output_type": "stream",
     "text": [
      "Enter the quantity of t-shirt available:  1\n",
      "Enter the quantity of mug available:  1\n",
      "Enter the quantity of hat available:  1\n",
      "Enter the quantity of book available:  1\n",
      "Enter the quantity of keychain available:  1\n"
     ]
    }
   ],
   "source": [
    "def initialize_inventory(products):\n",
    "    inventory = {}\n",
    "    for product in products:\n",
    "        valid_quantity = False\n",
    "        while not valid_quantity:\n",
    "            try:\n",
    "                quantity = int(input(f\"Enter the quantity of {product} available: \"))\n",
    "                if quantity < 0:\n",
    "                    raise ValueError(\"Invalid quantity! Please enter a non-negative value.\")\n",
    "                valid_quantity = True\n",
    "            except ValueError as error:\n",
    "                print(f\"Error: {error}\")\n",
    "        inventory[product] = quantity\n",
    "    return inventory\n",
    "\n",
    "inventory = initialize_inventory(products)"
   ]
  },
  {
   "cell_type": "code",
   "execution_count": null,
   "id": "bca3d15a-3536-4407-9e95-8fd6439f7b55",
   "metadata": {},
   "outputs": [],
   "source": [
    "# If the user enters an invalid product name (e.g., a product name that is not in the inventory)\n",
    "# or that doesn't have stock available, display an error message and ask them to re-enter the product name.\n",
    "# Hint: you will need to pass inventory as a parameter\n",
    "\n",
    "# Use a try-except block to handle the error and continue prompting the user until a valid product name is entered.\n",
    "\n",
    "# We need to use a while loop for the order of numbers, input should be within the try func. we need a for \n",
    "# function inside a while loop for the part that asks for the product name"
   ]
  },
  {
   "cell_type": "code",
   "execution_count": 19,
   "id": "3c69dab5-474d-440c-97b7-f37266cdd410",
   "metadata": {},
   "outputs": [
    {
     "name": "stdin",
     "output_type": "stream",
     "text": [
      "Enter the number of customer orders: 2\n",
      "Please enter the name of the product: mug\n",
      "Please enter the name of the product: hat\n"
     ]
    }
   ],
   "source": [
    "def get_customer_orders(inventory):\n",
    "    customer_orders = set()\n",
    "    valid_order = False \n",
    "    while valid_order == False:\n",
    "        try:\n",
    "            order = int(input(\"Enter the number of customer orders:\"))\n",
    "            if order>0:\n",
    "                valid_order=True\n",
    "            else:\n",
    "                raise ValueError (\"Invalid quantity. Please enter a positive number.\")\n",
    "        except ValueError as x:\n",
    "            print(\"Error with the input\", x)\n",
    "    \n",
    "    \n",
    "    for i in range(order): \n",
    "        valid_name = False\n",
    "        while valid_name == False:\n",
    "            try:\n",
    "                name = input(\"Please enter the name of the product:\")\n",
    "                if name in inventory.keys() and inventory[name]>0:\n",
    "                    customer_orders.add(name)\n",
    "                    valid_name=True\n",
    "                elif name in inventory.keys() and inventory[name]<=0:\n",
    "                    raise ValueError (\"Inventory for this selected item is exhausted\")\n",
    "                else: \n",
    "                    raise ValueError (\"Inventory is not a selectable item in our inventory\")\n",
    "            except ValueError as y:\n",
    "                print(\"Error with the input\", y)\n",
    "    return customer_orders\n",
    "\n",
    "customer_orders = get_customer_orders(inventory)"
   ]
  },
  {
   "cell_type": "code",
   "execution_count": null,
   "id": "8e027252-c9e6-4962-be5c-126f64992554",
   "metadata": {},
   "outputs": [
    {
     "name": "stdin",
     "output_type": "stream",
     "text": [
      "Enter the price of hat: e\n"
     ]
    },
    {
     "name": "stdout",
     "output_type": "stream",
     "text": [
      "could not convert string to float: 'e'\n"
     ]
    },
    {
     "name": "stdin",
     "output_type": "stream",
     "text": [
      "Enter the price of hat: 0\n"
     ]
    },
    {
     "name": "stdout",
     "output_type": "stream",
     "text": [
      "Price has to be positive.\n"
     ]
    },
    {
     "name": "stdin",
     "output_type": "stream",
     "text": [
      "Enter the price of hat: -1\n"
     ]
    },
    {
     "name": "stdout",
     "output_type": "stream",
     "text": [
      "Price has to be positive.\n"
     ]
    }
   ],
   "source": [
    "def calculate_total_price(customer_orders):\n",
    "    total_price = 0\n",
    "    for product in customer_orders:\n",
    "        valid_price = False\n",
    "        while valid_price == False:\n",
    "            try:\n",
    "                user_price = float(input(f\"Enter the price of {product}:\"))\n",
    "                if (user_price > 0):\n",
    "                    valid_price = True\n",
    "                    total_price += user_price\n",
    "                else:\n",
    "                    print(\"Price has to be positive.\")\n",
    "            except ValueError as x:\n",
    "                print(x)\n",
    "    return total_price\n",
    "\n",
    "calculate_total_price(customer_orders)"
   ]
  },
  {
   "cell_type": "code",
   "execution_count": 32,
   "id": "355d6f7d-c307-4fab-85b6-c41eb3e2d6d2",
   "metadata": {},
   "outputs": [],
   "source": []
  }
 ],
 "metadata": {
  "kernelspec": {
   "display_name": "Python 3 (ipykernel)",
   "language": "python",
   "name": "python3"
  },
  "language_info": {
   "codemirror_mode": {
    "name": "ipython",
    "version": 3
   },
   "file_extension": ".py",
   "mimetype": "text/x-python",
   "name": "python",
   "nbconvert_exporter": "python",
   "pygments_lexer": "ipython3",
   "version": "3.12.8"
  }
 },
 "nbformat": 4,
 "nbformat_minor": 5
}
